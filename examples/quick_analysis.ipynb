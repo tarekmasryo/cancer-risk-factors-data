{
 "cells": [
  {
   "cell_type": "code",
   "execution_count": null,
   "id": "c8f8f1bd",
   "metadata": {
    "vscode": {
     "languageId": "plaintext"
    }
   },
   "outputs": [],
   "source": [
    "# 🧬 Quick Analysis — Cancer Risk Factors Dataset\n",
    "\n",
    "import pandas as pd\n",
    "import matplotlib.pyplot as plt\n",
    "import seaborn as sns\n",
    "\n",
    "df = pd.read_csv(\"../data/raw/cancer-risk-factors.csv\")\n",
    "print(\"Shape:\", df.shape)\n",
    "display(df.head())\n",
    "\n",
    "# Summary statistics\n",
    "display(df.describe(include=\"all\").T)\n",
    "\n",
    "# Distribution of cancer types\n",
    "plt.figure(figsize=(6,4))\n",
    "sns.countplot(y=\"Cancer_Type\", data=df, palette=\"muted\")\n",
    "plt.title(\"Cancer Type Distribution\")\n",
    "plt.tight_layout()\n",
    "plt.show()\n",
    "\n",
    "# Correlation heatmap\n",
    "plt.figure(figsize=(10,8))\n",
    "sns.heatmap(df.select_dtypes(\"number\").corr(), cmap=\"coolwarm\", center=0)\n",
    "plt.title(\"Correlation Heatmap — Numeric Features\")\n",
    "plt.show()\n"
   ]
  }
 ],
 "metadata": {
  "language_info": {
   "name": "python"
  }
 },
 "nbformat": 4,
 "nbformat_minor": 5
}
